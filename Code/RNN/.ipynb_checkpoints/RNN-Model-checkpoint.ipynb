{
 "cells": [
  {
   "cell_type": "markdown",
   "id": "4f32e7b1",
   "metadata": {},
   "source": [
    "# 1.Importing Libraries"
   ]
  },
  {
   "cell_type": "code",
   "execution_count": 4,
   "id": "dc1235d2",
   "metadata": {},
   "outputs": [],
   "source": [
    "import pandas as pd\n",
    "import numpy as np\n",
    "import re\n",
    "import nltk\n",
    "import string\n",
    "import seaborn as sns\n",
    "import matplotlib.pyplot as plt\n",
    "from nltk.corpus import stopwords\n",
    "from nltk.stem import PorterStemmer\n",
    "import tensorflow as tf\n",
    "from sklearn.metrics import confusion_matrix, roc_curve, auc, classification_report\n",
    "from sklearn.model_selection import train_test_split\n",
    "from tensorflow.keras.optimizers import Adam\n",
    "from tensorflow.keras.preprocessing.text import Tokenizer\n",
    "from tensorflow.keras.preprocessing.sequence import pad_sequences\n",
    "from tensorflow.keras.models import Sequential, load_model\n",
    "from tensorflow.keras.layers import Embedding, SimpleRNN, Dense, Dropout\n",
    "\n",
    "import warnings\n",
    "warnings.filterwarnings('ignore')"
   ]
  },
  {
   "cell_type": "markdown",
   "id": "c66ba10a",
   "metadata": {},
   "source": [
    "# 2. Import and Combine Data"
   ]
  },
  {
   "cell_type": "code",
   "execution_count": null,
   "id": "9532bf42",
   "metadata": {},
   "outputs": [],
   "source": [
    "df1 = pd.read_csv(\"Dataset/Fake.csv\")\n",
    "df2 = pd.read_csv(\"Dataset/True.csv\")\n",
    "\n",
    "df1['label'] = 1\n",
    "df2['label'] = 0 \n",
    "\n",
    "df1 = df1.drop(columns = ['subject', 'date'])\n",
    "df2 = df2.drop(columns = ['subject', 'date'])\n",
    "\n",
    "df3 = pd.read_csv(\"Dataset/news.csv\")\n",
    "\n",
    "# Use replace to change 'FAKE' to 1 and 'REAL' to 0\n",
    "df3['label'] = df3['label'].replace({'FAKE': 1, 'REAL': 0})\n",
    "df3 = df3.drop(columns = df3.columns[0])\n",
    "\n",
    "df4 = pd.read_csv(\"Dataset/WELFake_Dataset.csv\")\n",
    "\n",
    "df4 = df4.drop(columns = df4.columns[0])\n",
    "df4['label'] = df4['label'].replace({1: 0, 0: 1})"
   ]
  },
  {
   "cell_type": "code",
   "execution_count": null,
   "id": "09ed2700",
   "metadata": {},
   "outputs": [],
   "source": [
    "df = pd.concat([df1, df2, df3, df4], ignore_index=True)"
   ]
  },
  {
   "cell_type": "markdown",
   "id": "c8d5bc9e",
   "metadata": {},
   "source": [
    "# 3 Data Processing"
   ]
  },
  {
   "cell_type": "code",
   "execution_count": null,
   "id": "581f4b75",
   "metadata": {},
   "outputs": [],
   "source": [
    "#Remove Rows with empty values\n",
    "print(df.shape[0])\n",
    "df = df.dropna()\n",
    "print(df.shape[0])"
   ]
  },
  {
   "cell_type": "code",
   "execution_count": null,
   "id": "76fdc1a6",
   "metadata": {},
   "outputs": [],
   "source": [
    "#Remove duplciate data\n",
    "print(df.shape[0])\n",
    "df = df.drop_duplicates(subset=['title'], keep='first')\n",
    "print(df.shape[0])"
   ]
  },
  {
   "cell_type": "code",
   "execution_count": null,
   "id": "4c7daa51",
   "metadata": {},
   "outputs": [],
   "source": [
    "# Shuffle (randomize) the rows\n",
    "df = df.sample(frac=1, random_state=42) "
   ]
  },
  {
   "cell_type": "code",
   "execution_count": null,
   "id": "521a9159",
   "metadata": {},
   "outputs": [],
   "source": [
    "#Combine Title and Text\n",
    "df['final'] = df['title'] + df['text']\n",
    "df.head()"
   ]
  },
  {
   "cell_type": "code",
   "execution_count": null,
   "id": "70e467ca",
   "metadata": {},
   "outputs": [],
   "source": [
    "# Apply preprocessing: remove punctuation by character\n",
    "df['final'] = df['final'] .apply(lambda x: x.translate(str.maketrans(string.punctuation, ' ' * len(string.punctuation))))\n",
    "\n",
    "#Remove Numbers\n",
    "df['final']= df['final'].str.replace(r'\\b\\d+\\b', '', regex=True)\n",
    "\n",
    "# Load English stopwords\n",
    "stopwords_set = set(stopwords.words('english'))\n",
    "\n",
    "# Apply preprocessing: remove stopwords\n",
    "df['final'] = df['final'].apply(lambda x: ' '.join([word.lower() for word in x.split() if word.lower() not in stopwords_set]))\n",
    "\n",
    "# Apply preprocessing: convert text to lowercase\n",
    "df['final'] = df['final'].apply(lambda x: x.lower())\n",
    "\n",
    "#Reduce words to root form\n",
    "stemmer = PorterStemmer()\n",
    "df['final'] = df['final'].apply(lambda x: ' '.join([stemmer.stem(word) for word in x.split()]))"
   ]
  },
  {
   "cell_type": "code",
   "execution_count": null,
   "id": "47a208c2",
   "metadata": {},
   "outputs": [],
   "source": [
    "#Save DataFrame\n",
    "df.to_pickle('Dataframe_1.pkl')"
   ]
  },
  {
   "cell_type": "code",
   "execution_count": 6,
   "id": "5607dad6",
   "metadata": {},
   "outputs": [],
   "source": [
    "# To load the DataFrame back\n",
    "df = pd.read_pickle('Dataframe_1.pkl')"
   ]
  },
  {
   "cell_type": "markdown",
   "id": "e56afa76",
   "metadata": {},
   "source": [
    "# RNN Implementation"
   ]
  },
  {
   "cell_type": "markdown",
   "id": "69e7bbd8",
   "metadata": {},
   "source": [
    "### Prepare the data"
   ]
  },
  {
   "cell_type": "code",
   "execution_count": 95,
   "id": "898a0955",
   "metadata": {},
   "outputs": [],
   "source": [
    "vocab_size = 30000  \n",
    "max_length = 150    \n",
    "trunc_type = 'post'\n",
    "padding_type = 'post'\n",
    "oov_tok = '<OOV>'\n",
    "\n",
    "# tokenizing the text from our dataset\n",
    "tokenizer = Tokenizer(num_words=vocab_size, oov_token=oov_tok)\n",
    "tokenizer.fit_on_texts(df['final'])\n",
    "sequences = tokenizer.texts_to_sequences(df['final'])\n",
    "padded = pad_sequences(sequences, maxlen=max_length, padding=padding_type, truncating=trunc_type)\n",
    "\n",
    "# splitting data (train and test)\n",
    "labels = df['label'].values\n",
    "X_train, X_test, y_train, y_test = train_test_split(padded, labels, test_size=0.2)"
   ]
  },
  {
   "cell_type": "markdown",
   "id": "6ce2dbd7",
   "metadata": {},
   "source": [
    "### Build the RNN Model"
   ]
  },
  {
   "cell_type": "code",
   "execution_count": 96,
   "id": "345a2ec8",
   "metadata": {},
   "outputs": [],
   "source": [
    "model = Sequential()\n",
    "model.add(Embedding(vocab_size, 64, input_length=max_length))\n",
    "model.add(SimpleRNN(128))  \n",
    "model.add(Dense(1, activation='sigmoid'))"
   ]
  },
  {
   "cell_type": "markdown",
   "id": "554e7da1",
   "metadata": {},
   "source": [
    "### Train the RNN Model"
   ]
  },
  {
   "cell_type": "code",
   "execution_count": 97,
   "id": "8ae33ec5",
   "metadata": {},
   "outputs": [],
   "source": [
    "from tensorflow.keras.optimizers import Adam\n",
    "\n",
    "model.compile(optimizer=Adam(), loss='binary_crossentropy', metrics=['accuracy'])"
   ]
  },
  {
   "cell_type": "code",
   "execution_count": 98,
   "id": "c9971f19",
   "metadata": {},
   "outputs": [
    {
     "name": "stdout",
     "output_type": "stream",
     "text": [
      "Epoch 1/10\n",
      "1558/1558 [==============================] - 27s 17ms/step - loss: 0.6873 - accuracy: 0.5493 - val_loss: 0.6613 - val_accuracy: 0.6278\n",
      "Epoch 2/10\n",
      "1558/1558 [==============================] - 26s 17ms/step - loss: 0.6326 - accuracy: 0.6411 - val_loss: 0.6720 - val_accuracy: 0.5893\n",
      "Epoch 3/10\n",
      "1558/1558 [==============================] - 26s 17ms/step - loss: 0.5449 - accuracy: 0.7363 - val_loss: 0.6569 - val_accuracy: 0.6086\n",
      "Epoch 4/10\n",
      "1558/1558 [==============================] - 26s 17ms/step - loss: 0.5106 - accuracy: 0.7594 - val_loss: 0.5585 - val_accuracy: 0.7391\n",
      "Epoch 5/10\n",
      "1558/1558 [==============================] - 26s 17ms/step - loss: 0.4424 - accuracy: 0.8054 - val_loss: 0.6153 - val_accuracy: 0.6529\n",
      "Epoch 6/10\n",
      "1558/1558 [==============================] - 26s 17ms/step - loss: 0.4268 - accuracy: 0.8147 - val_loss: 0.5011 - val_accuracy: 0.8022\n",
      "Epoch 7/10\n",
      "1558/1558 [==============================] - 26s 17ms/step - loss: 0.4547 - accuracy: 0.7909 - val_loss: 0.4988 - val_accuracy: 0.7931\n",
      "Epoch 8/10\n",
      "1558/1558 [==============================] - 26s 17ms/step - loss: 0.4130 - accuracy: 0.8196 - val_loss: 0.5994 - val_accuracy: 0.7143\n",
      "Epoch 9/10\n",
      "1558/1558 [==============================] - 26s 17ms/step - loss: 0.4569 - accuracy: 0.7891 - val_loss: 0.6594 - val_accuracy: 0.6559\n",
      "Epoch 10/10\n",
      "1558/1558 [==============================] - 26s 17ms/step - loss: 0.5340 - accuracy: 0.7287 - val_loss: 0.6792 - val_accuracy: 0.6740\n"
     ]
    },
    {
     "data": {
      "text/plain": [
       "<keras.src.callbacks.History at 0x188a2474590>"
      ]
     },
     "execution_count": 98,
     "metadata": {},
     "output_type": "execute_result"
    }
   ],
   "source": [
    "model.fit(X_train, y_train, epochs=10, validation_data=(X_test, y_test))"
   ]
  },
  {
   "cell_type": "code",
   "execution_count": 99,
   "id": "316e33eb",
   "metadata": {},
   "outputs": [],
   "source": [
    "model.save('BaseRNN.h5')"
   ]
  },
  {
   "cell_type": "code",
   "execution_count": 100,
   "id": "17ca45b4",
   "metadata": {},
   "outputs": [],
   "source": [
    "model = load_model('BaseRNN.h5')"
   ]
  },
  {
   "cell_type": "markdown",
   "id": "b19e9df1",
   "metadata": {},
   "source": [
    "### Evaluating the Model"
   ]
  },
  {
   "cell_type": "markdown",
   "id": "4e4e1bc1",
   "metadata": {},
   "source": [
    "#### Basic Evaluation"
   ]
  },
  {
   "cell_type": "code",
   "execution_count": 101,
   "id": "c7fce72a",
   "metadata": {},
   "outputs": [
    {
     "name": "stdout",
     "output_type": "stream",
     "text": [
      "390/390 [==============================] - 2s 4ms/step\n",
      "              precision    recall  f1-score   support\n",
      "\n",
      "           0       0.69      0.63      0.66      6257\n",
      "           1       0.66      0.71      0.69      6205\n",
      "\n",
      "    accuracy                           0.67     12462\n",
      "   macro avg       0.68      0.67      0.67     12462\n",
      "weighted avg       0.68      0.67      0.67     12462\n",
      "\n"
     ]
    }
   ],
   "source": [
    "# Predictions\n",
    "predictions = model.predict(X_test)\n",
    "predictions = [1 if p > 0.5 else 0 for p in predictions]\n",
    "\n",
    "# Evaluation\n",
    "print(classification_report(y_test, predictions))"
   ]
  },
  {
   "cell_type": "markdown",
   "id": "a0a03103",
   "metadata": {},
   "source": [
    "#### Confusion Matrix"
   ]
  },
  {
   "cell_type": "code",
   "execution_count": 102,
   "id": "44ebb593",
   "metadata": {},
   "outputs": [
    {
     "data": {
      "image/png": "[encoded data removed]",
      "text/plain": [
       "<Figure size 640x480 with 2 Axes>"
      ]
     },
     "metadata": {},
     "output_type": "display_data"
    }
   ],
   "source": [
    "from sklearn.metrics import confusion_matrix\n",
    "import seaborn as sns\n",
    "import matplotlib.pyplot as plt\n",
    "\n",
    "cm = confusion_matrix(y_test, predictions)\n",
    "\n",
    "# Normalize the confusion matrix\n",
    "normalized_cm = cm.astype('float') / cm.sum(axis=1)[:, np.newaxis]\n",
    "sns.heatmap(normalized_cm, annot=True, fmt='.2f')\n",
    "plt.xlabel('Predicted')\n",
    "plt.ylabel('True')\n",
    "plt.show()"
   ]
  },
  {
   "cell_type": "markdown",
   "id": "e2a637a5",
   "metadata": {},
   "source": [
    "#### Receiver Operating Characteristic (ROC) Curve and Area Under Curve (AUC)"
   ]
  },
  {
   "cell_type": "code",
   "execution_count": 103,
   "id": "8b705614",
   "metadata": {
    "scrolled": false
   },
   "outputs": [
    {
     "name": "stdout",
     "output_type": "stream",
     "text": [
      "390/390 [==============================] - 2s 4ms/step\n"
     ]
    },
    {
     "data": {
      "image/png": "[encoded data removed]",
      "text/plain": [
       "<Figure size 640x480 with 1 Axes>"
      ]
     },
     "metadata": {},
     "output_type": "display_data"
    }
   ],
   "source": [
    "from sklearn.metrics import roc_curve, auc\n",
    "\n",
    "fpr, tpr, _ = roc_curve(y_test, model.predict(X_test).ravel())\n",
    "roc_auc = auc(fpr, tpr)\n",
    "\n",
    "plt.figure()\n",
    "plt.plot(fpr, tpr, color='darkorange', lw=2, label='ROC curve (area = %0.2f)' % roc_auc)\n",
    "plt.plot([0, 1], [0, 1], color='navy', lw=2, linestyle='--')\n",
    "plt.xlabel('False Positive Rate')\n",
    "plt.ylabel('True Positive Rate')\n",
    "plt.title('ROC')\n",
    "plt.legend(loc=\"lower right\")\n",
    "plt.show()"
   ]
  },
  {
   "cell_type": "markdown",
   "id": "721aa73a",
   "metadata": {},
   "source": [
    "### Build the RNN Model - Adding dropout layer and additional dense layers"
   ]
  },
  {
   "cell_type": "code",
   "execution_count": 83,
   "id": "948b45e2",
   "metadata": {},
   "outputs": [],
   "source": [
    "vocab_size = 30000  \n",
    "max_length = 150    \n",
    "trunc_type = 'post'\n",
    "padding_type = 'post'\n",
    "oov_tok = '<OOV>'\n",
    "\n",
    "# tokenizing the text from our dataset\n",
    "tokenizer = Tokenizer(num_words=vocab_size, oov_token=oov_tok)\n",
    "tokenizer.fit_on_texts(df['final'])\n",
    "sequences = tokenizer.texts_to_sequences(df['final'])\n",
    "padded = pad_sequences(sequences, maxlen=max_length, padding=padding_type, truncating=trunc_type)\n",
    "\n",
    "# splitting data (train and test)\n",
    "labels = df['label'].values\n",
    "X_train, X_test, y_train, y_test = train_test_split(padded, labels, test_size=0.2)"
   ]
  },
  {
   "cell_type": "code",
   "execution_count": 87,
   "id": "a8fcbd34",
   "metadata": {},
   "outputs": [],
   "source": [
    "model_1 = Sequential()\n",
    "model_1.add(Embedding(vocab_size, 64, input_length=max_length))\n",
    "model_1.add(SimpleRNN(64, return_sequences=True))\n",
    "model_1.add(Dropout(0.2)) \n",
    "model_1.add(SimpleRNN(128))\n",
    "model_1.add(Dropout(0.2))\n",
    "model_1.add(Dense(1, activation='sigmoid'))"
   ]
  },
  {
   "cell_type": "code",
   "execution_count": 88,
   "id": "043dabe8",
   "metadata": {},
   "outputs": [],
   "source": [
    "from tensorflow.keras.optimizers import Adam\n",
    "\n",
    "model_1.compile(optimizer=Adam(), loss='binary_crossentropy', metrics=['accuracy'])"
   ]
  },
  {
   "cell_type": "code",
   "execution_count": 89,
   "id": "3728dcd0",
   "metadata": {},
   "outputs": [
    {
     "name": "stdout",
     "output_type": "stream",
     "text": [
      "Epoch 1/10\n",
      "1558/1558 [==============================] - 43s 27ms/step - loss: 0.6841 - accuracy: 0.5727 - val_loss: 0.5934 - val_accuracy: 0.6976\n",
      "Epoch 2/10\n",
      "1558/1558 [==============================] - 42s 27ms/step - loss: 0.6182 - accuracy: 0.6686 - val_loss: 0.5603 - val_accuracy: 0.6710\n",
      "Epoch 3/10\n",
      "1558/1558 [==============================] - 43s 28ms/step - loss: 0.5738 - accuracy: 0.7014 - val_loss: 0.4914 - val_accuracy: 0.7731\n",
      "Epoch 4/10\n",
      "1558/1558 [==============================] - 44s 28ms/step - loss: 0.4354 - accuracy: 0.8060 - val_loss: 0.4139 - val_accuracy: 0.8280\n",
      "Epoch 5/10\n",
      "1558/1558 [==============================] - 44s 28ms/step - loss: 0.3353 - accuracy: 0.8587 - val_loss: 0.4057 - val_accuracy: 0.8368\n",
      "Epoch 6/10\n",
      "1558/1558 [==============================] - 43s 28ms/step - loss: 0.2882 - accuracy: 0.8809 - val_loss: 0.3605 - val_accuracy: 0.8544\n",
      "Epoch 7/10\n",
      "1558/1558 [==============================] - 43s 28ms/step - loss: 0.2775 - accuracy: 0.8852 - val_loss: 0.3383 - val_accuracy: 0.8576\n",
      "Epoch 8/10\n",
      "1558/1558 [==============================] - 41s 27ms/step - loss: 0.2708 - accuracy: 0.8861 - val_loss: 0.3330 - val_accuracy: 0.8617\n",
      "Epoch 9/10\n",
      "1558/1558 [==============================] - 42s 27ms/step - loss: 0.2360 - accuracy: 0.9044 - val_loss: 0.3719 - val_accuracy: 0.8475\n",
      "Epoch 10/10\n",
      "1558/1558 [==============================] - 42s 27ms/step - loss: 0.4061 - accuracy: 0.8215 - val_loss: 0.4526 - val_accuracy: 0.7943\n"
     ]
    },
    {
     "data": {
      "text/plain": [
       "<keras.src.callbacks.History at 0x18881d46690>"
      ]
     },
     "execution_count": 89,
     "metadata": {},
     "output_type": "execute_result"
    }
   ],
   "source": [
    "model_1.fit(X_train, y_train, batch_size=32, epochs=10, validation_data=(X_test, y_test))"
   ]
  },
  {
   "cell_type": "code",
   "execution_count": 90,
   "id": "0a08808b",
   "metadata": {},
   "outputs": [],
   "source": [
    "model.save('AddRNN.h5')"
   ]
  },
  {
   "cell_type": "code",
   "execution_count": 91,
   "id": "84be81a7",
   "metadata": {},
   "outputs": [],
   "source": [
    "model = load_model('AddRNN.h5')"
   ]
  },
  {
   "cell_type": "code",
   "execution_count": 92,
   "id": "3cb3bbd7",
   "metadata": {},
   "outputs": [
    {
     "name": "stdout",
     "output_type": "stream",
     "text": [
      "390/390 [==============================] - 2s 6ms/step\n",
      "              precision    recall  f1-score   support\n",
      "\n",
      "           0       0.79      0.80      0.79      6204\n",
      "           1       0.80      0.79      0.79      6258\n",
      "\n",
      "    accuracy                           0.79     12462\n",
      "   macro avg       0.79      0.79      0.79     12462\n",
      "weighted avg       0.79      0.79      0.79     12462\n",
      "\n"
     ]
    }
   ],
   "source": [
    "# Predictions\n",
    "predictions = model_1.predict(X_test)\n",
    "predictions = [1 if p > 0.5 else 0 for p in predictions]\n",
    "\n",
    "# Evaluation\n",
    "print(classification_report(y_test, predictions))"
   ]
  },
  {
   "cell_type": "code",
   "execution_count": 93,
   "id": "5a6e61b1",
   "metadata": {},
   "outputs": [
    {
     "data": {
      "image/png": "[encoded data removed]",
      "text/plain": [
       "<Figure size 640x480 with 2 Axes>"
      ]
     },
     "metadata": {},
     "output_type": "display_data"
    }
   ],
   "source": [
    "cm = confusion_matrix(y_test, predictions)\n",
    "\n",
    "# Normalize the confusion matrix\n",
    "normalized_cm = cm.astype('float') / cm.sum(axis=1)[:, np.newaxis]\n",
    "sns.heatmap(normalized_cm, annot=True, fmt='.2f')\n",
    "plt.xlabel('Predicted')\n",
    "plt.ylabel('True')\n",
    "plt.show()"
   ]
  },
  {
   "cell_type": "code",
   "execution_count": 94,
   "id": "eda988fa",
   "metadata": {},
   "outputs": [
    {
     "name": "stdout",
     "output_type": "stream",
     "text": [
      "390/390 [==============================] - 2s 6ms/step\n"
     ]
    },
    {
     "data": {
      "image/png": "[encoded data removed]",
      "text/plain": [
       "<Figure size 640x480 with 1 Axes>"
      ]
     },
     "metadata": {},
     "output_type": "display_data"
    }
   ],
   "source": [
    "fpr, tpr, _ = roc_curve(y_test, model_1.predict(X_test).ravel())\n",
    "roc_auc = auc(fpr, tpr)\n",
    "\n",
    "plt.figure()\n",
    "plt.plot(fpr, tpr, color='darkorange', lw=2, label='ROC curve (area = %0.2f)' % roc_auc)\n",
    "plt.plot([0, 1], [0, 1], color='navy', lw=2, linestyle='--')\n",
    "plt.xlabel('False Positive Rate')\n",
    "plt.ylabel('True Positive Rate')\n",
    "plt.title('ROC')\n",
    "plt.legend(loc=\"lower right\")\n",
    "plt.show()"
   ]
  },
  {
   "cell_type": "code",
   "execution_count": null,
   "id": "8bae9767",
   "metadata": {},
   "outputs": [],
   "source": []
  }
 ],
 "metadata": {
  "kernelspec": {
   "display_name": "Python 3 (ipykernel)",
   "language": "python",
   "name": "python3"
  },
  "language_info": {
   "codemirror_mode": {
    "name": "ipython",
    "version": 3
   },
   "file_extension": ".py",
   "mimetype": "text/x-python",
   "name": "python",
   "nbconvert_exporter": "python",
   "pygments_lexer": "ipython3",
   "version": "3.11.5"
  }
 },
 "nbformat": 4,
 "nbformat_minor": 5
}
